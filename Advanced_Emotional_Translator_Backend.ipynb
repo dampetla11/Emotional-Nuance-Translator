{
 "cells": [
  {
   "cell_type": "markdown",
   "id": "9d375b64",
   "metadata": {},
   "source": [
    "# Advanced Emotional Nuance Translator Backend\n",
    "This notebook implements advanced layers for handling text translations while retaining emotional tone, sentiment, and cultural nuances."
   ]
  },
  {
   "cell_type": "code",
   "execution_count": 2,
   "id": "f1a74427",
   "metadata": {},
   "outputs": [
    {
     "ename": "SyntaxError",
     "evalue": "invalid syntax (2471780308.py, line 1)",
     "output_type": "error",
     "traceback": [
      "\u001b[1;36m  Cell \u001b[1;32mIn[2], line 1\u001b[1;36m\u001b[0m\n\u001b[1;33m    pip install transformers\u001b[0m\n\u001b[1;37m        ^\u001b[0m\n\u001b[1;31mSyntaxError\u001b[0m\u001b[1;31m:\u001b[0m invalid syntax\n"
     ]
    }
   ],
   "source": [
    "pip install transformers\n",
    "pip install tf-keras\n",
    "pip install --upgrade transformers tensorflow==2.12.0"
   ]
  },
  {
   "cell_type": "code",
   "execution_count": 3,
   "id": "5ece1f90",
   "metadata": {},
   "outputs": [
    {
     "data": {
      "application/vnd.jupyter.widget-view+json": {
       "model_id": "3a4ea66cc0ed49f3aa36c5d70bc003ae",
       "version_major": 2,
       "version_minor": 0
      },
      "text/plain": [
       "config.json:   0%|          | 0.00/629 [00:00<?, ?B/s]"
      ]
     },
     "metadata": {},
     "output_type": "display_data"
    },
    {
     "name": "stderr",
     "output_type": "stream",
     "text": [
      "C:\\Users\\danda\\AppData\\Local\\Packages\\PythonSoftwareFoundation.Python.3.11_qbz5n2kfra8p0\\LocalCache\\local-packages\\Python311\\site-packages\\huggingface_hub\\file_download.py:140: UserWarning: `huggingface_hub` cache-system uses symlinks by default to efficiently store duplicated files but your machine does not support them in C:\\Users\\danda\\.cache\\huggingface\\hub\\models--distilbert-base-uncased-finetuned-sst-2-english. Caching files will still work but in a degraded version that might require more space on your disk. This warning can be disabled by setting the `HF_HUB_DISABLE_SYMLINKS_WARNING` environment variable. For more details, see https://huggingface.co/docs/huggingface_hub/how-to-cache#limitations.\n",
      "To support symlinks on Windows, you either need to activate Developer Mode or to run Python as an administrator. In order to activate developer mode, see this article: https://docs.microsoft.com/en-us/windows/apps/get-started/enable-your-device-for-development\n",
      "  warnings.warn(message)\n"
     ]
    },
    {
     "data": {
      "application/vnd.jupyter.widget-view+json": {
       "model_id": "9f86377dfb7841a1bc890d09b90a3425",
       "version_major": 2,
       "version_minor": 0
      },
      "text/plain": [
       "model.safetensors:   0%|          | 0.00/268M [00:00<?, ?B/s]"
      ]
     },
     "metadata": {},
     "output_type": "display_data"
    },
    {
     "data": {
      "application/vnd.jupyter.widget-view+json": {
       "model_id": "c2f2f4aff5194305835503db27525569",
       "version_major": 2,
       "version_minor": 0
      },
      "text/plain": [
       "tokenizer_config.json:   0%|          | 0.00/48.0 [00:00<?, ?B/s]"
      ]
     },
     "metadata": {},
     "output_type": "display_data"
    },
    {
     "data": {
      "application/vnd.jupyter.widget-view+json": {
       "model_id": "1c459c574c3d4e7abe342eca3b729e38",
       "version_major": 2,
       "version_minor": 0
      },
      "text/plain": [
       "vocab.txt:   0%|          | 0.00/232k [00:00<?, ?B/s]"
      ]
     },
     "metadata": {},
     "output_type": "display_data"
    },
    {
     "name": "stderr",
     "output_type": "stream",
     "text": [
      "Device set to use cpu\n"
     ]
    },
    {
     "name": "stdout",
     "output_type": "stream",
     "text": [
      "[{'label': 'POSITIVE', 'score': 0.9998737573623657}]\n",
      "WARNING:tensorflow:From C:\\Users\\danda\\AppData\\Local\\Packages\\PythonSoftwareFoundation.Python.3.11_qbz5n2kfra8p0\\LocalCache\\local-packages\\Python311\\site-packages\\tf_keras\\src\\losses.py:2976: The name tf.losses.sparse_softmax_cross_entropy is deprecated. Please use tf.compat.v1.losses.sparse_softmax_cross_entropy instead.\n",
      "\n"
     ]
    },
    {
     "name": "stderr",
     "output_type": "stream",
     "text": [
      "Device set to use cpu\n"
     ]
    },
    {
     "name": "stdout",
     "output_type": "stream",
     "text": [
      "Translated 'I can't believe this is happening. It's amazing!' to es with emotion 'positive'.\n"
     ]
    }
   ],
   "source": [
    "\n",
    "# Import necessary libraries\n",
    "from transformers import pipeline\n",
    "\n",
    "# Explicitly use PyTorch\n",
    "sentiment_analyzer = pipeline(\n",
    "    'sentiment-analysis', \n",
    "    model='distilbert-base-uncased-finetuned-sst-2-english', \n",
    "    framework='pt'\n",
    ")\n",
    "\n",
    "\n",
    "# Test the pipeline\n",
    "input_text = \"I can't believe this is happening. It's amazing!\"\n",
    "sentiment = sentiment_analyzer(input_text)\n",
    "print(sentiment)\n",
    "\n",
    "\n",
    "# Load sentiment analysis pipeline (you can use Hugging Face models or others)\n",
    "sentiment_analyzer = pipeline('sentiment-analysis', model='distilbert-base-uncased-finetuned-sst-2-english')\n",
    "\n",
    "# Simulate a cultural adjustment function (basic implementation for now)\n",
    "def adjust_cultural_sensitivity(emotion, target_language):\n",
    "    # Example: Modify emotional expression based on target culture\n",
    "    cultural_adjustments = {\n",
    "        \"happy\": {\"es\": \"alegre\", \"fr\": \"heureux\"},\n",
    "        \"sad\": {\"es\": \"triste\", \"fr\": \"triste\"},\n",
    "        \"angry\": {\"es\": \"enojado\", \"fr\": \"fâché\"},\n",
    "        \"neutral\": {\"es\": \"neutral\", \"fr\": \"neutre\"}\n",
    "    }\n",
    "    return cultural_adjustments.get(emotion, {}).get(target_language, emotion)\n",
    "\n",
    "# Advanced translation function\n",
    "def translate_with_emotional_nuance(input_text, source_lang, target_lang):\n",
    "    # Step 1: Sentiment analysis\n",
    "    sentiment_result = sentiment_analyzer(input_text)[0]\n",
    "    emotion = sentiment_result['label'].lower()\n",
    "\n",
    "    # Step 2: Cultural adjustment of emotion\n",
    "    adjusted_emotion = adjust_cultural_sensitivity(emotion, target_lang)\n",
    "\n",
    "    # Step 3: Contextual mapping (placeholder for actual implementation)\n",
    "    translated_text = f\"Translated '{input_text}' to {target_lang} with emotion '{adjusted_emotion}'.\"\n",
    "\n",
    "    return translated_text\n",
    "\n",
    "# Example usage\n",
    "input_text = \"I can't believe this is happening. It's amazing!\"\n",
    "source_lang = \"en\"\n",
    "target_lang = \"es\"\n",
    "output = translate_with_emotional_nuance(input_text, source_lang, target_lang)\n",
    "print(output)\n"
   ]
  },
  {
   "cell_type": "code",
   "execution_count": 9,
   "id": "ea646ba9",
   "metadata": {},
   "outputs": [
    {
     "name": "stdout",
     "output_type": "stream",
     "text": [
      "Je me sens très heureux aujourd'hui !\n"
     ]
    },
    {
     "name": "stderr",
     "output_type": "stream",
     "text": [
      "Device set to use cpu\n"
     ]
    },
    {
     "name": "stdout",
     "output_type": "stream",
     "text": [
      "Je me sens très heureux aujourd'hui !\n"
     ]
    }
   ],
   "source": [
    "import asyncio\n",
    "import nest_asyncio\n",
    "nest_asyncio.apply()\n",
    "\n",
    "asyncio.run(main())  # This will now work without RuntimeError.\n",
    "\n",
    "from transformers import pipeline\n",
    "from googletrans import Translator\n",
    "\n",
    "# Load sentiment analysis pipeline\n",
    "sentiment_analyzer = pipeline('sentiment-analysis', model='distilbert-base-uncased-finetuned-sst-2-english')\n",
    "\n",
    "# Initialize the translator\n",
    "translator = Translator()\n",
    "\n",
    "# Adjust cultural sensitivity function\n",
    "def adjust_cultural_sensitivity(emotion, target_language):\n",
    "    cultural_modifiers = {\n",
    "        \"fr\": {\n",
    "            \"positive\": \"heureux\",\n",
    "            \"negative\": \"triste\",\n",
    "            \"neutral\": \"neutre\"\n",
    "        },\n",
    "        \"es\": {\n",
    "            \"positive\": \"feliz\",\n",
    "            \"negative\": \"triste\",\n",
    "            \"neutral\": \"neutral\"\n",
    "        }\n",
    "    }\n",
    "    return cultural_modifiers.get(target_language, {}).get(emotion, emotion)\n",
    "\n",
    "# Translation function with emotional sensitivity\n",
    "async def translate_emotionally(text, target_language):\n",
    "    # Determine sentiment\n",
    "    sentiment = sentiment_analyzer(text)[0]\n",
    "    emotion = sentiment['label'].lower()  # 'positive', 'negative', or 'neutral'\n",
    "    adjusted_emotion = adjust_cultural_sensitivity(emotion, target_language)\n",
    "\n",
    "    # Translate the text\n",
    "    translated = await translator.translate(text, src='en', dest=target_language)\n",
    "    return translated.text\n",
    "\n",
    "# Main function to run the async translation\n",
    "async def main():\n",
    "    text = \"I am feeling very happy today!\"\n",
    "    target_language = \"fr\"  # French\n",
    "    translated_text = await translate_emotionally(text, target_language)\n",
    "    print(translated_text)\n",
    "\n",
    "# Run the async main function\n",
    "asyncio.run(main())\n"
   ]
  },
  {
   "cell_type": "markdown",
   "id": "a8ca2c39",
   "metadata": {},
   "source": [
    "### Notes:\n",
    "- This implementation uses Hugging Face's sentiment-analysis pipeline for detecting emotions.\n",
    "- Placeholder functions simulate cultural adjustments and contextual mapping.\n",
    "- Integration with a machine translation model (e.g., GPT or MarianMT) can be added for full functionality."
   ]
  }
 ],
 "metadata": {
  "kernelspec": {
   "display_name": "Python 3",
   "language": "python",
   "name": "python3"
  },
  "language_info": {
   "codemirror_mode": {
    "name": "ipython",
    "version": 3
   },
   "file_extension": ".py",
   "mimetype": "text/x-python",
   "name": "python",
   "nbconvert_exporter": "python",
   "pygments_lexer": "ipython3",
   "version": "3.11.9"
  }
 },
 "nbformat": 4,
 "nbformat_minor": 5
}
